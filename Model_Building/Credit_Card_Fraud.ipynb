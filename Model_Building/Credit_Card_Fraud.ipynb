{
 "cells": [
  {
   "cell_type": "code",
   "execution_count": 63,
   "metadata": {},
   "outputs": [],
   "source": [
    "import numpy as np\n",
    "import pandas as pd\n",
    "\n",
    "# Libraries for visualization\n",
    "import matplotlib.pyplot as plt\n",
    "import seaborn as sns\n",
    "\n",
    "# Library to split the dataset into trainig and testing\n",
    "from sklearn.model_selection import train_test_split\n",
    "\n",
    "# Supervised algorithms for classification\n",
    "from sklearn.tree import DecisionTreeClassifier\n",
    "from sklearn.svm import SVC\n",
    "from sklearn.neighbors import KNeighborsClassifier\n",
    "from sklearn.linear_model import LogisticRegression\n",
    "from sklearn.ensemble import RandomForestClassifier\n",
    "from sklearn.naive_bayes import MultinomialNB\n",
    "\n",
    "# Libraries for metrics determination\n",
    "from sklearn.metrics import f1_score, confusion_matrix, accuracy_score, precision_score, recall_score, classification_report, confusion_matrix"
   ]
  },
  {
   "cell_type": "code",
   "execution_count": 64,
   "metadata": {},
   "outputs": [],
   "source": [
    "df = pd.read_csv('creditcardcsvpresent.csv')"
   ]
  },
  {
   "cell_type": "code",
   "execution_count": 65,
   "metadata": {},
   "outputs": [],
   "source": [
    "df_copy = df.copy()"
   ]
  },
  {
   "cell_type": "code",
   "execution_count": 66,
   "metadata": {},
   "outputs": [
    {
     "data": {
      "text/html": [
       "<div>\n",
       "<style scoped>\n",
       "    .dataframe tbody tr th:only-of-type {\n",
       "        vertical-align: middle;\n",
       "    }\n",
       "\n",
       "    .dataframe tbody tr th {\n",
       "        vertical-align: top;\n",
       "    }\n",
       "\n",
       "    .dataframe thead th {\n",
       "        text-align: right;\n",
       "    }\n",
       "</style>\n",
       "<table border=\"1\" class=\"dataframe\">\n",
       "  <thead>\n",
       "    <tr style=\"text-align: right;\">\n",
       "      <th></th>\n",
       "      <th>Merchant_id</th>\n",
       "      <th>Transaction date</th>\n",
       "      <th>Average Amount/transaction/day</th>\n",
       "      <th>Transaction_amount</th>\n",
       "      <th>Is declined</th>\n",
       "      <th>Total Number of declines/day</th>\n",
       "      <th>isForeignTransaction</th>\n",
       "      <th>isHighRiskCountry</th>\n",
       "      <th>Daily_chargeback_avg_amt</th>\n",
       "      <th>6_month_avg_chbk_amt</th>\n",
       "      <th>6-month_chbk_freq</th>\n",
       "      <th>isFradulent</th>\n",
       "    </tr>\n",
       "  </thead>\n",
       "  <tbody>\n",
       "    <tr>\n",
       "      <th>0</th>\n",
       "      <td>3160040998</td>\n",
       "      <td>NaN</td>\n",
       "      <td>100.0</td>\n",
       "      <td>3000.0</td>\n",
       "      <td>N</td>\n",
       "      <td>5</td>\n",
       "      <td>Y</td>\n",
       "      <td>Y</td>\n",
       "      <td>0</td>\n",
       "      <td>0.0</td>\n",
       "      <td>0</td>\n",
       "      <td>Y</td>\n",
       "    </tr>\n",
       "    <tr>\n",
       "      <th>1</th>\n",
       "      <td>3160040998</td>\n",
       "      <td>NaN</td>\n",
       "      <td>100.0</td>\n",
       "      <td>4300.0</td>\n",
       "      <td>N</td>\n",
       "      <td>5</td>\n",
       "      <td>Y</td>\n",
       "      <td>Y</td>\n",
       "      <td>0</td>\n",
       "      <td>0.0</td>\n",
       "      <td>0</td>\n",
       "      <td>Y</td>\n",
       "    </tr>\n",
       "    <tr>\n",
       "      <th>2</th>\n",
       "      <td>3160041896</td>\n",
       "      <td>NaN</td>\n",
       "      <td>185.5</td>\n",
       "      <td>4823.0</td>\n",
       "      <td>Y</td>\n",
       "      <td>5</td>\n",
       "      <td>N</td>\n",
       "      <td>N</td>\n",
       "      <td>0</td>\n",
       "      <td>0.0</td>\n",
       "      <td>0</td>\n",
       "      <td>Y</td>\n",
       "    </tr>\n",
       "    <tr>\n",
       "      <th>3</th>\n",
       "      <td>3160141996</td>\n",
       "      <td>NaN</td>\n",
       "      <td>185.5</td>\n",
       "      <td>5008.5</td>\n",
       "      <td>Y</td>\n",
       "      <td>8</td>\n",
       "      <td>N</td>\n",
       "      <td>N</td>\n",
       "      <td>0</td>\n",
       "      <td>0.0</td>\n",
       "      <td>0</td>\n",
       "      <td>Y</td>\n",
       "    </tr>\n",
       "    <tr>\n",
       "      <th>4</th>\n",
       "      <td>3160241992</td>\n",
       "      <td>NaN</td>\n",
       "      <td>500.0</td>\n",
       "      <td>26000.0</td>\n",
       "      <td>N</td>\n",
       "      <td>0</td>\n",
       "      <td>Y</td>\n",
       "      <td>Y</td>\n",
       "      <td>800</td>\n",
       "      <td>677.2</td>\n",
       "      <td>6</td>\n",
       "      <td>Y</td>\n",
       "    </tr>\n",
       "  </tbody>\n",
       "</table>\n",
       "</div>"
      ],
      "text/plain": [
       "   Merchant_id  Transaction date  Average Amount/transaction/day  \\\n",
       "0   3160040998               NaN                           100.0   \n",
       "1   3160040998               NaN                           100.0   \n",
       "2   3160041896               NaN                           185.5   \n",
       "3   3160141996               NaN                           185.5   \n",
       "4   3160241992               NaN                           500.0   \n",
       "\n",
       "   Transaction_amount Is declined  Total Number of declines/day  \\\n",
       "0              3000.0           N                             5   \n",
       "1              4300.0           N                             5   \n",
       "2              4823.0           Y                             5   \n",
       "3              5008.5           Y                             8   \n",
       "4             26000.0           N                             0   \n",
       "\n",
       "  isForeignTransaction isHighRiskCountry  Daily_chargeback_avg_amt  \\\n",
       "0                    Y                 Y                         0   \n",
       "1                    Y                 Y                         0   \n",
       "2                    N                 N                         0   \n",
       "3                    N                 N                         0   \n",
       "4                    Y                 Y                       800   \n",
       "\n",
       "   6_month_avg_chbk_amt  6-month_chbk_freq isFradulent  \n",
       "0                   0.0                  0           Y  \n",
       "1                   0.0                  0           Y  \n",
       "2                   0.0                  0           Y  \n",
       "3                   0.0                  0           Y  \n",
       "4                 677.2                  6           Y  "
      ]
     },
     "execution_count": 66,
     "metadata": {},
     "output_type": "execute_result"
    }
   ],
   "source": [
    "df.head()"
   ]
  },
  {
   "cell_type": "code",
   "execution_count": 67,
   "metadata": {},
   "outputs": [
    {
     "name": "stdout",
     "output_type": "stream",
     "text": [
      "<class 'pandas.core.frame.DataFrame'>\n",
      "RangeIndex: 3075 entries, 0 to 3074\n",
      "Data columns (total 12 columns):\n",
      " #   Column                          Non-Null Count  Dtype  \n",
      "---  ------                          --------------  -----  \n",
      " 0   Merchant_id                     3075 non-null   int64  \n",
      " 1   Transaction date                0 non-null      float64\n",
      " 2   Average Amount/transaction/day  3075 non-null   float64\n",
      " 3   Transaction_amount              3075 non-null   float64\n",
      " 4   Is declined                     3075 non-null   object \n",
      " 5   Total Number of declines/day    3075 non-null   int64  \n",
      " 6   isForeignTransaction            3075 non-null   object \n",
      " 7   isHighRiskCountry               3075 non-null   object \n",
      " 8   Daily_chargeback_avg_amt        3075 non-null   int64  \n",
      " 9   6_month_avg_chbk_amt            3075 non-null   float64\n",
      " 10  6-month_chbk_freq               3075 non-null   int64  \n",
      " 11  isFradulent                     3075 non-null   object \n",
      "dtypes: float64(4), int64(4), object(4)\n",
      "memory usage: 288.4+ KB\n"
     ]
    }
   ],
   "source": [
    "df.info()"
   ]
  },
  {
   "cell_type": "code",
   "execution_count": 68,
   "metadata": {},
   "outputs": [
    {
     "data": {
      "text/html": [
       "<div>\n",
       "<style scoped>\n",
       "    .dataframe tbody tr th:only-of-type {\n",
       "        vertical-align: middle;\n",
       "    }\n",
       "\n",
       "    .dataframe tbody tr th {\n",
       "        vertical-align: top;\n",
       "    }\n",
       "\n",
       "    .dataframe thead th {\n",
       "        text-align: right;\n",
       "    }\n",
       "</style>\n",
       "<table border=\"1\" class=\"dataframe\">\n",
       "  <thead>\n",
       "    <tr style=\"text-align: right;\">\n",
       "      <th></th>\n",
       "      <th>Merchant_id</th>\n",
       "      <th>Transaction date</th>\n",
       "      <th>Average Amount/transaction/day</th>\n",
       "      <th>Transaction_amount</th>\n",
       "      <th>Total Number of declines/day</th>\n",
       "      <th>Daily_chargeback_avg_amt</th>\n",
       "      <th>6_month_avg_chbk_amt</th>\n",
       "      <th>6-month_chbk_freq</th>\n",
       "    </tr>\n",
       "  </thead>\n",
       "  <tbody>\n",
       "    <tr>\n",
       "      <th>count</th>\n",
       "      <td>3.075000e+03</td>\n",
       "      <td>0.0</td>\n",
       "      <td>3075.000000</td>\n",
       "      <td>3075.000000</td>\n",
       "      <td>3075.000000</td>\n",
       "      <td>3075.000000</td>\n",
       "      <td>3075.000000</td>\n",
       "      <td>3075.000000</td>\n",
       "    </tr>\n",
       "    <tr>\n",
       "      <th>mean</th>\n",
       "      <td>5.026634e+09</td>\n",
       "      <td>NaN</td>\n",
       "      <td>515.026556</td>\n",
       "      <td>9876.399210</td>\n",
       "      <td>0.957398</td>\n",
       "      <td>55.737561</td>\n",
       "      <td>40.022407</td>\n",
       "      <td>0.391870</td>\n",
       "    </tr>\n",
       "    <tr>\n",
       "      <th>std</th>\n",
       "      <td>9.870778e+08</td>\n",
       "      <td>NaN</td>\n",
       "      <td>291.906978</td>\n",
       "      <td>10135.331016</td>\n",
       "      <td>2.192391</td>\n",
       "      <td>206.634779</td>\n",
       "      <td>155.968840</td>\n",
       "      <td>1.548479</td>\n",
       "    </tr>\n",
       "    <tr>\n",
       "      <th>min</th>\n",
       "      <td>3.160041e+09</td>\n",
       "      <td>NaN</td>\n",
       "      <td>4.011527</td>\n",
       "      <td>0.000000</td>\n",
       "      <td>0.000000</td>\n",
       "      <td>0.000000</td>\n",
       "      <td>0.000000</td>\n",
       "      <td>0.000000</td>\n",
       "    </tr>\n",
       "    <tr>\n",
       "      <th>25%</th>\n",
       "      <td>4.170814e+09</td>\n",
       "      <td>NaN</td>\n",
       "      <td>269.788047</td>\n",
       "      <td>2408.781147</td>\n",
       "      <td>0.000000</td>\n",
       "      <td>0.000000</td>\n",
       "      <td>0.000000</td>\n",
       "      <td>0.000000</td>\n",
       "    </tr>\n",
       "    <tr>\n",
       "      <th>50%</th>\n",
       "      <td>5.025578e+09</td>\n",
       "      <td>NaN</td>\n",
       "      <td>502.549575</td>\n",
       "      <td>6698.891856</td>\n",
       "      <td>0.000000</td>\n",
       "      <td>0.000000</td>\n",
       "      <td>0.000000</td>\n",
       "      <td>0.000000</td>\n",
       "    </tr>\n",
       "    <tr>\n",
       "      <th>75%</th>\n",
       "      <td>5.889625e+09</td>\n",
       "      <td>NaN</td>\n",
       "      <td>765.272803</td>\n",
       "      <td>14422.568935</td>\n",
       "      <td>0.000000</td>\n",
       "      <td>0.000000</td>\n",
       "      <td>0.000000</td>\n",
       "      <td>0.000000</td>\n",
       "    </tr>\n",
       "    <tr>\n",
       "      <th>max</th>\n",
       "      <td>6.665906e+09</td>\n",
       "      <td>NaN</td>\n",
       "      <td>2000.000000</td>\n",
       "      <td>108000.000000</td>\n",
       "      <td>20.000000</td>\n",
       "      <td>998.000000</td>\n",
       "      <td>998.000000</td>\n",
       "      <td>9.000000</td>\n",
       "    </tr>\n",
       "  </tbody>\n",
       "</table>\n",
       "</div>"
      ],
      "text/plain": [
       "        Merchant_id  Transaction date  Average Amount/transaction/day  \\\n",
       "count  3.075000e+03               0.0                     3075.000000   \n",
       "mean   5.026634e+09               NaN                      515.026556   \n",
       "std    9.870778e+08               NaN                      291.906978   \n",
       "min    3.160041e+09               NaN                        4.011527   \n",
       "25%    4.170814e+09               NaN                      269.788047   \n",
       "50%    5.025578e+09               NaN                      502.549575   \n",
       "75%    5.889625e+09               NaN                      765.272803   \n",
       "max    6.665906e+09               NaN                     2000.000000   \n",
       "\n",
       "       Transaction_amount  Total Number of declines/day  \\\n",
       "count         3075.000000                   3075.000000   \n",
       "mean          9876.399210                      0.957398   \n",
       "std          10135.331016                      2.192391   \n",
       "min              0.000000                      0.000000   \n",
       "25%           2408.781147                      0.000000   \n",
       "50%           6698.891856                      0.000000   \n",
       "75%          14422.568935                      0.000000   \n",
       "max         108000.000000                     20.000000   \n",
       "\n",
       "       Daily_chargeback_avg_amt  6_month_avg_chbk_amt  6-month_chbk_freq  \n",
       "count               3075.000000           3075.000000        3075.000000  \n",
       "mean                  55.737561             40.022407           0.391870  \n",
       "std                  206.634779            155.968840           1.548479  \n",
       "min                    0.000000              0.000000           0.000000  \n",
       "25%                    0.000000              0.000000           0.000000  \n",
       "50%                    0.000000              0.000000           0.000000  \n",
       "75%                    0.000000              0.000000           0.000000  \n",
       "max                  998.000000            998.000000           9.000000  "
      ]
     },
     "execution_count": 68,
     "metadata": {},
     "output_type": "execute_result"
    }
   ],
   "source": [
    "df.describe()"
   ]
  },
  {
   "cell_type": "markdown",
   "metadata": {},
   "source": [
    "## Data Cleaning"
   ]
  },
  {
   "cell_type": "markdown",
   "metadata": {},
   "source": [
    "#### Issues\n",
    "- Transaction date column is completely empty so we will remove this column\n",
    "- Merchant id column is not really needed for this task as it does not add significant meaning to the dataset"
   ]
  },
  {
   "cell_type": "code",
   "execution_count": 69,
   "metadata": {
    "scrolled": true
   },
   "outputs": [
    {
     "data": {
      "text/html": [
       "<div>\n",
       "<style scoped>\n",
       "    .dataframe tbody tr th:only-of-type {\n",
       "        vertical-align: middle;\n",
       "    }\n",
       "\n",
       "    .dataframe tbody tr th {\n",
       "        vertical-align: top;\n",
       "    }\n",
       "\n",
       "    .dataframe thead th {\n",
       "        text-align: right;\n",
       "    }\n",
       "</style>\n",
       "<table border=\"1\" class=\"dataframe\">\n",
       "  <thead>\n",
       "    <tr style=\"text-align: right;\">\n",
       "      <th></th>\n",
       "      <th>Average Amount/transaction/day</th>\n",
       "      <th>Transaction_amount</th>\n",
       "      <th>Is declined</th>\n",
       "      <th>Total Number of declines/day</th>\n",
       "      <th>isForeignTransaction</th>\n",
       "      <th>isHighRiskCountry</th>\n",
       "      <th>Daily_chargeback_avg_amt</th>\n",
       "      <th>6_month_avg_chbk_amt</th>\n",
       "      <th>6-month_chbk_freq</th>\n",
       "      <th>isFradulent</th>\n",
       "    </tr>\n",
       "  </thead>\n",
       "  <tbody>\n",
       "    <tr>\n",
       "      <th>0</th>\n",
       "      <td>100.0</td>\n",
       "      <td>3000.0</td>\n",
       "      <td>N</td>\n",
       "      <td>5</td>\n",
       "      <td>Y</td>\n",
       "      <td>Y</td>\n",
       "      <td>0</td>\n",
       "      <td>0.0</td>\n",
       "      <td>0</td>\n",
       "      <td>Y</td>\n",
       "    </tr>\n",
       "    <tr>\n",
       "      <th>1</th>\n",
       "      <td>100.0</td>\n",
       "      <td>4300.0</td>\n",
       "      <td>N</td>\n",
       "      <td>5</td>\n",
       "      <td>Y</td>\n",
       "      <td>Y</td>\n",
       "      <td>0</td>\n",
       "      <td>0.0</td>\n",
       "      <td>0</td>\n",
       "      <td>Y</td>\n",
       "    </tr>\n",
       "    <tr>\n",
       "      <th>2</th>\n",
       "      <td>185.5</td>\n",
       "      <td>4823.0</td>\n",
       "      <td>Y</td>\n",
       "      <td>5</td>\n",
       "      <td>N</td>\n",
       "      <td>N</td>\n",
       "      <td>0</td>\n",
       "      <td>0.0</td>\n",
       "      <td>0</td>\n",
       "      <td>Y</td>\n",
       "    </tr>\n",
       "    <tr>\n",
       "      <th>3</th>\n",
       "      <td>185.5</td>\n",
       "      <td>5008.5</td>\n",
       "      <td>Y</td>\n",
       "      <td>8</td>\n",
       "      <td>N</td>\n",
       "      <td>N</td>\n",
       "      <td>0</td>\n",
       "      <td>0.0</td>\n",
       "      <td>0</td>\n",
       "      <td>Y</td>\n",
       "    </tr>\n",
       "    <tr>\n",
       "      <th>4</th>\n",
       "      <td>500.0</td>\n",
       "      <td>26000.0</td>\n",
       "      <td>N</td>\n",
       "      <td>0</td>\n",
       "      <td>Y</td>\n",
       "      <td>Y</td>\n",
       "      <td>800</td>\n",
       "      <td>677.2</td>\n",
       "      <td>6</td>\n",
       "      <td>Y</td>\n",
       "    </tr>\n",
       "    <tr>\n",
       "      <th>...</th>\n",
       "      <td>...</td>\n",
       "      <td>...</td>\n",
       "      <td>...</td>\n",
       "      <td>...</td>\n",
       "      <td>...</td>\n",
       "      <td>...</td>\n",
       "      <td>...</td>\n",
       "      <td>...</td>\n",
       "      <td>...</td>\n",
       "      <td>...</td>\n",
       "    </tr>\n",
       "    <tr>\n",
       "      <th>3070</th>\n",
       "      <td>500.0</td>\n",
       "      <td>11000.0</td>\n",
       "      <td>Y</td>\n",
       "      <td>0</td>\n",
       "      <td>N</td>\n",
       "      <td>N</td>\n",
       "      <td>754</td>\n",
       "      <td>585.0</td>\n",
       "      <td>7</td>\n",
       "      <td>N</td>\n",
       "    </tr>\n",
       "    <tr>\n",
       "      <th>3071</th>\n",
       "      <td>800.0</td>\n",
       "      <td>0.0</td>\n",
       "      <td>Y</td>\n",
       "      <td>0</td>\n",
       "      <td>N</td>\n",
       "      <td>N</td>\n",
       "      <td>754</td>\n",
       "      <td>585.0</td>\n",
       "      <td>7</td>\n",
       "      <td>N</td>\n",
       "    </tr>\n",
       "    <tr>\n",
       "      <th>3072</th>\n",
       "      <td>800.0</td>\n",
       "      <td>20800.0</td>\n",
       "      <td>Y</td>\n",
       "      <td>0</td>\n",
       "      <td>N</td>\n",
       "      <td>N</td>\n",
       "      <td>754</td>\n",
       "      <td>585.0</td>\n",
       "      <td>7</td>\n",
       "      <td>N</td>\n",
       "    </tr>\n",
       "    <tr>\n",
       "      <th>3073</th>\n",
       "      <td>1500.0</td>\n",
       "      <td>12000.0</td>\n",
       "      <td>Y</td>\n",
       "      <td>0</td>\n",
       "      <td>Y</td>\n",
       "      <td>Y</td>\n",
       "      <td>754</td>\n",
       "      <td>585.0</td>\n",
       "      <td>7</td>\n",
       "      <td>N</td>\n",
       "    </tr>\n",
       "    <tr>\n",
       "      <th>3074</th>\n",
       "      <td>1500.0</td>\n",
       "      <td>36000.0</td>\n",
       "      <td>Y</td>\n",
       "      <td>0</td>\n",
       "      <td>Y</td>\n",
       "      <td>Y</td>\n",
       "      <td>754</td>\n",
       "      <td>585.0</td>\n",
       "      <td>7</td>\n",
       "      <td>N</td>\n",
       "    </tr>\n",
       "  </tbody>\n",
       "</table>\n",
       "<p>3075 rows × 10 columns</p>\n",
       "</div>"
      ],
      "text/plain": [
       "      Average Amount/transaction/day  Transaction_amount Is declined  \\\n",
       "0                              100.0              3000.0           N   \n",
       "1                              100.0              4300.0           N   \n",
       "2                              185.5              4823.0           Y   \n",
       "3                              185.5              5008.5           Y   \n",
       "4                              500.0             26000.0           N   \n",
       "...                              ...                 ...         ...   \n",
       "3070                           500.0             11000.0           Y   \n",
       "3071                           800.0                 0.0           Y   \n",
       "3072                           800.0             20800.0           Y   \n",
       "3073                          1500.0             12000.0           Y   \n",
       "3074                          1500.0             36000.0           Y   \n",
       "\n",
       "      Total Number of declines/day isForeignTransaction isHighRiskCountry  \\\n",
       "0                                5                    Y                 Y   \n",
       "1                                5                    Y                 Y   \n",
       "2                                5                    N                 N   \n",
       "3                                8                    N                 N   \n",
       "4                                0                    Y                 Y   \n",
       "...                            ...                  ...               ...   \n",
       "3070                             0                    N                 N   \n",
       "3071                             0                    N                 N   \n",
       "3072                             0                    N                 N   \n",
       "3073                             0                    Y                 Y   \n",
       "3074                             0                    Y                 Y   \n",
       "\n",
       "      Daily_chargeback_avg_amt  6_month_avg_chbk_amt  6-month_chbk_freq  \\\n",
       "0                            0                   0.0                  0   \n",
       "1                            0                   0.0                  0   \n",
       "2                            0                   0.0                  0   \n",
       "3                            0                   0.0                  0   \n",
       "4                          800                 677.2                  6   \n",
       "...                        ...                   ...                ...   \n",
       "3070                       754                 585.0                  7   \n",
       "3071                       754                 585.0                  7   \n",
       "3072                       754                 585.0                  7   \n",
       "3073                       754                 585.0                  7   \n",
       "3074                       754                 585.0                  7   \n",
       "\n",
       "     isFradulent  \n",
       "0              Y  \n",
       "1              Y  \n",
       "2              Y  \n",
       "3              Y  \n",
       "4              Y  \n",
       "...          ...  \n",
       "3070           N  \n",
       "3071           N  \n",
       "3072           N  \n",
       "3073           N  \n",
       "3074           N  \n",
       "\n",
       "[3075 rows x 10 columns]"
      ]
     },
     "execution_count": 69,
     "metadata": {},
     "output_type": "execute_result"
    }
   ],
   "source": [
    "# Both columns are been dropped here\n",
    "df.drop(columns=['Merchant_id','Transaction date'], inplace=True)\n",
    "\n",
    "# lets take a look at the changes made\n",
    "df"
   ]
  },
  {
   "cell_type": "code",
   "execution_count": 70,
   "metadata": {},
   "outputs": [],
   "source": [
    "# data set for analysis\n",
    "df_analysis = df.copy()"
   ]
  },
  {
   "cell_type": "code",
   "execution_count": 71,
   "metadata": {},
   "outputs": [
    {
     "data": {
      "text/html": [
       "<div>\n",
       "<style scoped>\n",
       "    .dataframe tbody tr th:only-of-type {\n",
       "        vertical-align: middle;\n",
       "    }\n",
       "\n",
       "    .dataframe tbody tr th {\n",
       "        vertical-align: top;\n",
       "    }\n",
       "\n",
       "    .dataframe thead th {\n",
       "        text-align: right;\n",
       "    }\n",
       "</style>\n",
       "<table border=\"1\" class=\"dataframe\">\n",
       "  <thead>\n",
       "    <tr style=\"text-align: right;\">\n",
       "      <th></th>\n",
       "      <th>Average Amount/transaction/day</th>\n",
       "      <th>Transaction_amount</th>\n",
       "      <th>Is declined</th>\n",
       "      <th>Total Number of declines/day</th>\n",
       "      <th>isForeignTransaction</th>\n",
       "      <th>isHighRiskCountry</th>\n",
       "      <th>Daily_chargeback_avg_amt</th>\n",
       "      <th>6_month_avg_chbk_amt</th>\n",
       "      <th>6-month_chbk_freq</th>\n",
       "      <th>isFradulent</th>\n",
       "    </tr>\n",
       "  </thead>\n",
       "  <tbody>\n",
       "    <tr>\n",
       "      <th>0</th>\n",
       "      <td>100.0</td>\n",
       "      <td>3000.0</td>\n",
       "      <td>NO</td>\n",
       "      <td>5</td>\n",
       "      <td>YES</td>\n",
       "      <td>YES</td>\n",
       "      <td>0</td>\n",
       "      <td>0.0</td>\n",
       "      <td>0</td>\n",
       "      <td>YES</td>\n",
       "    </tr>\n",
       "    <tr>\n",
       "      <th>1</th>\n",
       "      <td>100.0</td>\n",
       "      <td>4300.0</td>\n",
       "      <td>NO</td>\n",
       "      <td>5</td>\n",
       "      <td>YES</td>\n",
       "      <td>YES</td>\n",
       "      <td>0</td>\n",
       "      <td>0.0</td>\n",
       "      <td>0</td>\n",
       "      <td>YES</td>\n",
       "    </tr>\n",
       "    <tr>\n",
       "      <th>2</th>\n",
       "      <td>185.5</td>\n",
       "      <td>4823.0</td>\n",
       "      <td>YES</td>\n",
       "      <td>5</td>\n",
       "      <td>NO</td>\n",
       "      <td>NO</td>\n",
       "      <td>0</td>\n",
       "      <td>0.0</td>\n",
       "      <td>0</td>\n",
       "      <td>YES</td>\n",
       "    </tr>\n",
       "    <tr>\n",
       "      <th>3</th>\n",
       "      <td>185.5</td>\n",
       "      <td>5008.5</td>\n",
       "      <td>YES</td>\n",
       "      <td>8</td>\n",
       "      <td>NO</td>\n",
       "      <td>NO</td>\n",
       "      <td>0</td>\n",
       "      <td>0.0</td>\n",
       "      <td>0</td>\n",
       "      <td>YES</td>\n",
       "    </tr>\n",
       "    <tr>\n",
       "      <th>4</th>\n",
       "      <td>500.0</td>\n",
       "      <td>26000.0</td>\n",
       "      <td>NO</td>\n",
       "      <td>0</td>\n",
       "      <td>YES</td>\n",
       "      <td>YES</td>\n",
       "      <td>800</td>\n",
       "      <td>677.2</td>\n",
       "      <td>6</td>\n",
       "      <td>YES</td>\n",
       "    </tr>\n",
       "    <tr>\n",
       "      <th>...</th>\n",
       "      <td>...</td>\n",
       "      <td>...</td>\n",
       "      <td>...</td>\n",
       "      <td>...</td>\n",
       "      <td>...</td>\n",
       "      <td>...</td>\n",
       "      <td>...</td>\n",
       "      <td>...</td>\n",
       "      <td>...</td>\n",
       "      <td>...</td>\n",
       "    </tr>\n",
       "    <tr>\n",
       "      <th>3070</th>\n",
       "      <td>500.0</td>\n",
       "      <td>11000.0</td>\n",
       "      <td>YES</td>\n",
       "      <td>0</td>\n",
       "      <td>NO</td>\n",
       "      <td>NO</td>\n",
       "      <td>754</td>\n",
       "      <td>585.0</td>\n",
       "      <td>7</td>\n",
       "      <td>NO</td>\n",
       "    </tr>\n",
       "    <tr>\n",
       "      <th>3071</th>\n",
       "      <td>800.0</td>\n",
       "      <td>0.0</td>\n",
       "      <td>YES</td>\n",
       "      <td>0</td>\n",
       "      <td>NO</td>\n",
       "      <td>NO</td>\n",
       "      <td>754</td>\n",
       "      <td>585.0</td>\n",
       "      <td>7</td>\n",
       "      <td>NO</td>\n",
       "    </tr>\n",
       "    <tr>\n",
       "      <th>3072</th>\n",
       "      <td>800.0</td>\n",
       "      <td>20800.0</td>\n",
       "      <td>YES</td>\n",
       "      <td>0</td>\n",
       "      <td>NO</td>\n",
       "      <td>NO</td>\n",
       "      <td>754</td>\n",
       "      <td>585.0</td>\n",
       "      <td>7</td>\n",
       "      <td>NO</td>\n",
       "    </tr>\n",
       "    <tr>\n",
       "      <th>3073</th>\n",
       "      <td>1500.0</td>\n",
       "      <td>12000.0</td>\n",
       "      <td>YES</td>\n",
       "      <td>0</td>\n",
       "      <td>YES</td>\n",
       "      <td>YES</td>\n",
       "      <td>754</td>\n",
       "      <td>585.0</td>\n",
       "      <td>7</td>\n",
       "      <td>NO</td>\n",
       "    </tr>\n",
       "    <tr>\n",
       "      <th>3074</th>\n",
       "      <td>1500.0</td>\n",
       "      <td>36000.0</td>\n",
       "      <td>YES</td>\n",
       "      <td>0</td>\n",
       "      <td>YES</td>\n",
       "      <td>YES</td>\n",
       "      <td>754</td>\n",
       "      <td>585.0</td>\n",
       "      <td>7</td>\n",
       "      <td>NO</td>\n",
       "    </tr>\n",
       "  </tbody>\n",
       "</table>\n",
       "<p>3075 rows × 10 columns</p>\n",
       "</div>"
      ],
      "text/plain": [
       "      Average Amount/transaction/day  Transaction_amount Is declined  \\\n",
       "0                              100.0              3000.0          NO   \n",
       "1                              100.0              4300.0          NO   \n",
       "2                              185.5              4823.0         YES   \n",
       "3                              185.5              5008.5         YES   \n",
       "4                              500.0             26000.0          NO   \n",
       "...                              ...                 ...         ...   \n",
       "3070                           500.0             11000.0         YES   \n",
       "3071                           800.0                 0.0         YES   \n",
       "3072                           800.0             20800.0         YES   \n",
       "3073                          1500.0             12000.0         YES   \n",
       "3074                          1500.0             36000.0         YES   \n",
       "\n",
       "      Total Number of declines/day isForeignTransaction isHighRiskCountry  \\\n",
       "0                                5                  YES               YES   \n",
       "1                                5                  YES               YES   \n",
       "2                                5                   NO                NO   \n",
       "3                                8                   NO                NO   \n",
       "4                                0                  YES               YES   \n",
       "...                            ...                  ...               ...   \n",
       "3070                             0                   NO                NO   \n",
       "3071                             0                   NO                NO   \n",
       "3072                             0                   NO                NO   \n",
       "3073                             0                  YES               YES   \n",
       "3074                             0                  YES               YES   \n",
       "\n",
       "      Daily_chargeback_avg_amt  6_month_avg_chbk_amt  6-month_chbk_freq  \\\n",
       "0                            0                   0.0                  0   \n",
       "1                            0                   0.0                  0   \n",
       "2                            0                   0.0                  0   \n",
       "3                            0                   0.0                  0   \n",
       "4                          800                 677.2                  6   \n",
       "...                        ...                   ...                ...   \n",
       "3070                       754                 585.0                  7   \n",
       "3071                       754                 585.0                  7   \n",
       "3072                       754                 585.0                  7   \n",
       "3073                       754                 585.0                  7   \n",
       "3074                       754                 585.0                  7   \n",
       "\n",
       "     isFradulent  \n",
       "0            YES  \n",
       "1            YES  \n",
       "2            YES  \n",
       "3            YES  \n",
       "4            YES  \n",
       "...          ...  \n",
       "3070          NO  \n",
       "3071          NO  \n",
       "3072          NO  \n",
       "3073          NO  \n",
       "3074          NO  \n",
       "\n",
       "[3075 rows x 10 columns]"
      ]
     },
     "execution_count": 71,
     "metadata": {},
     "output_type": "execute_result"
    }
   ],
   "source": [
    "columns =['Is declined', 'isForeignTransaction', 'isHighRiskCountry', 'isFradulent']\n",
    "for column in columns:\n",
    "    df_analysis[column] = df_analysis[column].map({'Y':'YES', 'N':'NO'})\n",
    "\n",
    "df_analysis"
   ]
  },
  {
   "cell_type": "markdown",
   "metadata": {},
   "source": [
    "## Data Analysis"
   ]
  },
  {
   "cell_type": "markdown",
   "metadata": {},
   "source": [
    "- Since we have cleaned the dataset, lets go on to analyze the dataset"
   ]
  },
  {
   "cell_type": "code",
   "execution_count": 72,
   "metadata": {},
   "outputs": [],
   "source": [
    "# Function for plotting bar chart\n",
    "\n",
    "def bar(col, title, x_label, y_label):\n",
    "    df_analysis[col].value_counts().plot(kind='bar');\n",
    "    plt.title(title)\n",
    "    plt.xlabel(x_label)\n",
    "    plt.ylabel(y_label)\n",
    "    plt.xticks(rotation=0)"
   ]
  },
  {
   "cell_type": "markdown",
   "metadata": {},
   "source": [
    "### Fraudulent to Non-Fraudulent transactions "
   ]
  },
  {
   "cell_type": "code",
   "execution_count": 73,
   "metadata": {},
   "outputs": [
    {
     "data": {
      "image/png": "[encoded data removed]",
      "text/plain": [
       "<Figure size 576x360 with 1 Axes>"
      ]
     },
     "metadata": {
      "needs_background": "light"
     },
     "output_type": "display_data"
    }
   ],
   "source": [
    "# df['isFradulent'].value_counts().plot(kind='bar');\n",
    "\n",
    "plt.figure(figsize=[8,5])\n",
    "bar('isFradulent', 'fraud', 'Fraudulent', 'counts')"
   ]
  },
  {
   "cell_type": "code",
   "execution_count": 74,
   "metadata": {},
   "outputs": [
    {
     "data": {
      "image/png": "[encoded data removed]",
      "text/plain": [
       "<Figure size 1296x360 with 3 Axes>"
      ]
     },
     "metadata": {
      "needs_background": "light"
     },
     "output_type": "display_data"
    }
   ],
   "source": [
    "plt.figure(figsize=[18,5])\n",
    "\n",
    "plt.subplot(1,3,1)\n",
    "bar('Is declined', 'Transactions declined', 'Declined or not', 'counts')\n",
    "\n",
    "plt.subplot(1,3,2)\n",
    "bar('isForeignTransaction', 'Transaction foreign or not', 'Foreign Transactions', 'counts')\n",
    "\n",
    "plt.subplot(1,3,3)\n",
    "bar('isHighRiskCountry', 'Transaction from High Risk Country', 'High Risk Country', 'counts')"
   ]
  },
  {
   "cell_type": "code",
   "execution_count": 75,
   "metadata": {},
   "outputs": [
    {
     "data": {
      "image/png": "[encoded data removed]",
      "text/plain": [
       "<Figure size 1080x360 with 2 Axes>"
      ]
     },
     "metadata": {
      "needs_background": "light"
     },
     "output_type": "display_data"
    }
   ],
   "source": [
    "import seaborn as sns\n",
    "plt.figure(figsize=(15,5))\n",
    "plt.subplot(1,2,1)\n",
    "sns.violinplot(x ='Average Amount/transaction/day',  data = df_analysis);\n",
    "plt.title('Average amount of transation per day')\n",
    "\n",
    "plt.subplot(1,2,2)\n",
    "sns.distplot(df_analysis[\"Average Amount/transaction/day\"], kde = True);\n",
    "plt.title('Average amount of transation per day');"
   ]
  },
  {
   "cell_type": "code",
   "execution_count": 76,
   "metadata": {
    "scrolled": true
   },
   "outputs": [
    {
     "data": {
      "image/png": "[encoded data removed]",
      "text/plain": [
       "<Figure size 1080x360 with 2 Axes>"
      ]
     },
     "metadata": {
      "needs_background": "light"
     },
     "output_type": "display_data"
    }
   ],
   "source": [
    "# Plot countplot\n",
    "plt.figure(figsize=(15,5))\n",
    "plt.subplot(1,2,1)\n",
    "sns.countplot(\n",
    "                   x=\"isFradulent\", \n",
    "                   data=df_analysis, \n",
    "                   hue='isHighRiskCountry') \n",
    "# Set title\n",
    "plt.title(\"Fraudulent transactions to risky country\") \n",
    "\n",
    "plt.subplot(1,2,2)\n",
    "sns.countplot(\n",
    "                   x=\"isFradulent\", \n",
    "                   data=df_analysis, \n",
    "                   hue='isForeignTransaction') \n",
    "# Set title\n",
    "plt.title(\"Fraudulent foreign transactions\"); "
   ]
  },
  {
   "cell_type": "code",
   "execution_count": 77,
   "metadata": {},
   "outputs": [
    {
     "data": {
      "text/plain": [
       "Text(0.5, 1.0, 'Transaction amount')"
      ]
     },
     "execution_count": 77,
     "metadata": {},
     "output_type": "execute_result"
    },
    {
     "data": {
      "image/png": "[encoded data removed]",
      "text/plain": [
       "<Figure size 720x360 with 1 Axes>"
      ]
     },
     "metadata": {
      "needs_background": "light"
     },
     "output_type": "display_data"
    }
   ],
   "source": [
    "plt.figure(figsize=(10,5))\n",
    "sns.violinplot(x ='Transaction_amount',  data = df_analysis)\n",
    "plt.title('Transaction amount')"
   ]
  },
  {
   "cell_type": "code",
   "execution_count": 78,
   "metadata": {},
   "outputs": [
    {
     "data": {
      "image/png": "[encoded data removed]",
      "text/plain": [
       "<Figure size 1080x504 with 2 Axes>"
      ]
     },
     "metadata": {
      "needs_background": "light"
     },
     "output_type": "display_data"
    }
   ],
   "source": [
    "\n",
    "\n",
    "column_name = 'Transaction_amount'  \n",
    "\n",
    "# Create a figure with one row and two columns (1x2 grid)\n",
    "fig, axs = plt.subplots(1, 2, figsize=(15, 7), tight_layout=True)\n",
    "\n",
    "# Plot a histogram on the first subplot (axs[0])\n",
    "axs[0].hist(df_analysis[column_name], bins=20, color='blue', alpha=0.7)\n",
    "axs[0].set_title('Histogram')\n",
    "\n",
    "# Plot a violin plot on the second subplot (axs[1])\n",
    "sns.violinplot(data=df_analysis, y=column_name, ax=axs[1], color='green')\n",
    "axs[1].set_title('Violin Plot')\n",
    "\n",
    "# Show the combined figure with both subplots\n",
    "plt.show()"
   ]
  },
  {
   "cell_type": "code",
   "execution_count": null,
   "metadata": {},
   "outputs": [],
   "source": []
  },
  {
   "cell_type": "code",
   "execution_count": null,
   "metadata": {},
   "outputs": [],
   "source": []
  },
  {
   "cell_type": "markdown",
   "metadata": {},
   "source": [
    "- The above chart shows that most transactions recorded are not fraudulent and this account for an unbalanced dataset for our target feature"
   ]
  },
  {
   "cell_type": "code",
   "execution_count": 79,
   "metadata": {},
   "outputs": [],
   "source": [
    "# color =['lightcoral','yellowgreen']\n",
    "# explode =(0.1,0) # explode first and second slice\n",
    "# labels = df['isFradulent'].unique()\n",
    "\n",
    "# plt.pie(df['isFradulent'].value_counts(), explode=explode, labels=labels, colors=color, autopct='%1.1f%%', \n",
    "#         shadow=True, startangle=140)\n",
    "# plt.axis('equal')\n",
    "# plt.show()"
   ]
  },
  {
   "cell_type": "code",
   "execution_count": 80,
   "metadata": {},
   "outputs": [
    {
     "data": {
      "text/plain": [
       "<matplotlib.axes._subplots.AxesSubplot at 0x1e0d454ccc8>"
      ]
     },
     "execution_count": 80,
     "metadata": {},
     "output_type": "execute_result"
    },
    {
     "data": {
      "image/png": "[encoded data removed]",
      "text/plain": [
       "<Figure size 864x648 with 2 Axes>"
      ]
     },
     "metadata": {
      "needs_background": "light"
     },
     "output_type": "display_data"
    }
   ],
   "source": [
    "plt.figure(figsize=[12,9])\n",
    "sns.heatmap(df_analysis.corr(),vmin=-1, vmax=1,cmap='coolwarm', annot=True)"
   ]
  },
  {
   "cell_type": "markdown",
   "metadata": {},
   "source": [
    "## Model Building"
   ]
  },
  {
   "cell_type": "markdown",
   "metadata": {},
   "source": [
    "- let us first encode categorical columns to numeric so as to be able to build our model"
   ]
  },
  {
   "cell_type": "code",
   "execution_count": 81,
   "metadata": {
    "scrolled": true
   },
   "outputs": [
    {
     "data": {
      "text/html": [
       "<div>\n",
       "<style scoped>\n",
       "    .dataframe tbody tr th:only-of-type {\n",
       "        vertical-align: middle;\n",
       "    }\n",
       "\n",
       "    .dataframe tbody tr th {\n",
       "        vertical-align: top;\n",
       "    }\n",
       "\n",
       "    .dataframe thead th {\n",
       "        text-align: right;\n",
       "    }\n",
       "</style>\n",
       "<table border=\"1\" class=\"dataframe\">\n",
       "  <thead>\n",
       "    <tr style=\"text-align: right;\">\n",
       "      <th></th>\n",
       "      <th>Average Amount/transaction/day</th>\n",
       "      <th>Transaction_amount</th>\n",
       "      <th>Is declined</th>\n",
       "      <th>Total Number of declines/day</th>\n",
       "      <th>isForeignTransaction</th>\n",
       "      <th>isHighRiskCountry</th>\n",
       "      <th>Daily_chargeback_avg_amt</th>\n",
       "      <th>6_month_avg_chbk_amt</th>\n",
       "      <th>6-month_chbk_freq</th>\n",
       "      <th>isFradulent</th>\n",
       "    </tr>\n",
       "  </thead>\n",
       "  <tbody>\n",
       "    <tr>\n",
       "      <th>0</th>\n",
       "      <td>100.0</td>\n",
       "      <td>3000.0</td>\n",
       "      <td>0</td>\n",
       "      <td>5</td>\n",
       "      <td>1</td>\n",
       "      <td>1</td>\n",
       "      <td>0</td>\n",
       "      <td>0.0</td>\n",
       "      <td>0</td>\n",
       "      <td>1</td>\n",
       "    </tr>\n",
       "    <tr>\n",
       "      <th>1</th>\n",
       "      <td>100.0</td>\n",
       "      <td>4300.0</td>\n",
       "      <td>0</td>\n",
       "      <td>5</td>\n",
       "      <td>1</td>\n",
       "      <td>1</td>\n",
       "      <td>0</td>\n",
       "      <td>0.0</td>\n",
       "      <td>0</td>\n",
       "      <td>1</td>\n",
       "    </tr>\n",
       "    <tr>\n",
       "      <th>2</th>\n",
       "      <td>185.5</td>\n",
       "      <td>4823.0</td>\n",
       "      <td>1</td>\n",
       "      <td>5</td>\n",
       "      <td>0</td>\n",
       "      <td>0</td>\n",
       "      <td>0</td>\n",
       "      <td>0.0</td>\n",
       "      <td>0</td>\n",
       "      <td>1</td>\n",
       "    </tr>\n",
       "    <tr>\n",
       "      <th>3</th>\n",
       "      <td>185.5</td>\n",
       "      <td>5008.5</td>\n",
       "      <td>1</td>\n",
       "      <td>8</td>\n",
       "      <td>0</td>\n",
       "      <td>0</td>\n",
       "      <td>0</td>\n",
       "      <td>0.0</td>\n",
       "      <td>0</td>\n",
       "      <td>1</td>\n",
       "    </tr>\n",
       "    <tr>\n",
       "      <th>4</th>\n",
       "      <td>500.0</td>\n",
       "      <td>26000.0</td>\n",
       "      <td>0</td>\n",
       "      <td>0</td>\n",
       "      <td>1</td>\n",
       "      <td>1</td>\n",
       "      <td>800</td>\n",
       "      <td>677.2</td>\n",
       "      <td>6</td>\n",
       "      <td>1</td>\n",
       "    </tr>\n",
       "    <tr>\n",
       "      <th>...</th>\n",
       "      <td>...</td>\n",
       "      <td>...</td>\n",
       "      <td>...</td>\n",
       "      <td>...</td>\n",
       "      <td>...</td>\n",
       "      <td>...</td>\n",
       "      <td>...</td>\n",
       "      <td>...</td>\n",
       "      <td>...</td>\n",
       "      <td>...</td>\n",
       "    </tr>\n",
       "    <tr>\n",
       "      <th>3070</th>\n",
       "      <td>500.0</td>\n",
       "      <td>11000.0</td>\n",
       "      <td>1</td>\n",
       "      <td>0</td>\n",
       "      <td>0</td>\n",
       "      <td>0</td>\n",
       "      <td>754</td>\n",
       "      <td>585.0</td>\n",
       "      <td>7</td>\n",
       "      <td>0</td>\n",
       "    </tr>\n",
       "    <tr>\n",
       "      <th>3071</th>\n",
       "      <td>800.0</td>\n",
       "      <td>0.0</td>\n",
       "      <td>1</td>\n",
       "      <td>0</td>\n",
       "      <td>0</td>\n",
       "      <td>0</td>\n",
       "      <td>754</td>\n",
       "      <td>585.0</td>\n",
       "      <td>7</td>\n",
       "      <td>0</td>\n",
       "    </tr>\n",
       "    <tr>\n",
       "      <th>3072</th>\n",
       "      <td>800.0</td>\n",
       "      <td>20800.0</td>\n",
       "      <td>1</td>\n",
       "      <td>0</td>\n",
       "      <td>0</td>\n",
       "      <td>0</td>\n",
       "      <td>754</td>\n",
       "      <td>585.0</td>\n",
       "      <td>7</td>\n",
       "      <td>0</td>\n",
       "    </tr>\n",
       "    <tr>\n",
       "      <th>3073</th>\n",
       "      <td>1500.0</td>\n",
       "      <td>12000.0</td>\n",
       "      <td>1</td>\n",
       "      <td>0</td>\n",
       "      <td>1</td>\n",
       "      <td>1</td>\n",
       "      <td>754</td>\n",
       "      <td>585.0</td>\n",
       "      <td>7</td>\n",
       "      <td>0</td>\n",
       "    </tr>\n",
       "    <tr>\n",
       "      <th>3074</th>\n",
       "      <td>1500.0</td>\n",
       "      <td>36000.0</td>\n",
       "      <td>1</td>\n",
       "      <td>0</td>\n",
       "      <td>1</td>\n",
       "      <td>1</td>\n",
       "      <td>754</td>\n",
       "      <td>585.0</td>\n",
       "      <td>7</td>\n",
       "      <td>0</td>\n",
       "    </tr>\n",
       "  </tbody>\n",
       "</table>\n",
       "<p>3075 rows × 10 columns</p>\n",
       "</div>"
      ],
      "text/plain": [
       "      Average Amount/transaction/day  Transaction_amount  Is declined  \\\n",
       "0                              100.0              3000.0            0   \n",
       "1                              100.0              4300.0            0   \n",
       "2                              185.5              4823.0            1   \n",
       "3                              185.5              5008.5            1   \n",
       "4                              500.0             26000.0            0   \n",
       "...                              ...                 ...          ...   \n",
       "3070                           500.0             11000.0            1   \n",
       "3071                           800.0                 0.0            1   \n",
       "3072                           800.0             20800.0            1   \n",
       "3073                          1500.0             12000.0            1   \n",
       "3074                          1500.0             36000.0            1   \n",
       "\n",
       "      Total Number of declines/day  isForeignTransaction  isHighRiskCountry  \\\n",
       "0                                5                     1                  1   \n",
       "1                                5                     1                  1   \n",
       "2                                5                     0                  0   \n",
       "3                                8                     0                  0   \n",
       "4                                0                     1                  1   \n",
       "...                            ...                   ...                ...   \n",
       "3070                             0                     0                  0   \n",
       "3071                             0                     0                  0   \n",
       "3072                             0                     0                  0   \n",
       "3073                             0                     1                  1   \n",
       "3074                             0                     1                  1   \n",
       "\n",
       "      Daily_chargeback_avg_amt  6_month_avg_chbk_amt  6-month_chbk_freq  \\\n",
       "0                            0                   0.0                  0   \n",
       "1                            0                   0.0                  0   \n",
       "2                            0                   0.0                  0   \n",
       "3                            0                   0.0                  0   \n",
       "4                          800                 677.2                  6   \n",
       "...                        ...                   ...                ...   \n",
       "3070                       754                 585.0                  7   \n",
       "3071                       754                 585.0                  7   \n",
       "3072                       754                 585.0                  7   \n",
       "3073                       754                 585.0                  7   \n",
       "3074                       754                 585.0                  7   \n",
       "\n",
       "      isFradulent  \n",
       "0               1  \n",
       "1               1  \n",
       "2               1  \n",
       "3               1  \n",
       "4               1  \n",
       "...           ...  \n",
       "3070            0  \n",
       "3071            0  \n",
       "3072            0  \n",
       "3073            0  \n",
       "3074            0  \n",
       "\n",
       "[3075 rows x 10 columns]"
      ]
     },
     "execution_count": 81,
     "metadata": {},
     "output_type": "execute_result"
    }
   ],
   "source": [
    "columns =['Is declined', 'isForeignTransaction', 'isHighRiskCountry', 'isFradulent']\n",
    "for column in columns:\n",
    "    df[column] = df[column].map({'Y':1, 'N':0})\n",
    "\n",
    "df"
   ]
  },
  {
   "cell_type": "markdown",
   "metadata": {},
   "source": [
    "- We are then going to divide the data into dependent (x) and independent (y) features"
   ]
  },
  {
   "cell_type": "code",
   "execution_count": 82,
   "metadata": {},
   "outputs": [],
   "source": [
    "x = df.drop('isFradulent', axis =1)\n",
    "\n",
    "y = df['isFradulent']"
   ]
  },
  {
   "cell_type": "code",
   "execution_count": 83,
   "metadata": {},
   "outputs": [
    {
     "name": "stdout",
     "output_type": "stream",
     "text": [
      "(3075, 9)\n",
      "(3075,)\n"
     ]
    }
   ],
   "source": [
    "print(x.shape)\n",
    "print(y.shape)"
   ]
  },
  {
   "cell_type": "code",
   "execution_count": null,
   "metadata": {},
   "outputs": [],
   "source": []
  },
  {
   "cell_type": "code",
   "execution_count": 84,
   "metadata": {},
   "outputs": [
    {
     "data": {
      "image/png": "[encoded data removed]",
      "text/plain": [
       "<Figure size 720x432 with 1 Axes>"
      ]
     },
     "metadata": {
      "needs_background": "light"
     },
     "output_type": "display_data"
    }
   ],
   "source": [
    "\n",
    "\n",
    "# Let's keep the total count of each categories in our independent variable y\n",
    "value_counts = y.value_counts()\n",
    "\n",
    "# Create a bar chart\n",
    "plt.figure(figsize=(10, 6))  # You can adjust the figure size as needed\n",
    "ax = value_counts.plot(kind='bar')\n",
    "\n",
    "# Add count labels on top of each bar\n",
    "for i in ax.patches:\n",
    "    ax.annotate(f'{i.get_height()}', (i.get_x() + i.get_width() / 2., i.get_height()), ha='center', va='center', fontsize=12, color='black', xytext=(0, 5), textcoords='offset points')\n",
    "\n",
    "plt.xlabel(\"Categories  [0: NO  |  1: YES]\")\n",
    "plt.ylabel(\"Count\")\n",
    "plt.title(\"Fraudulent to Non-Fraudulent Transaction\")\n",
    "plt.xticks(rotation=0)  # Rotate x-axis labels \n",
    "\n",
    "plt.show()\n"
   ]
  },
  {
   "cell_type": "markdown",
   "metadata": {},
   "source": [
    "From the above graph, we can see that the dataset is not balanced, but then, let's build a model with it and compare with a balanced dataset"
   ]
  },
  {
   "cell_type": "code",
   "execution_count": 85,
   "metadata": {},
   "outputs": [],
   "source": [
    "# from sklearn.model_selection import train_test_split\n",
    "# splitting the model into training and test set\n",
    "\n",
    "x_train, x_test,  y_train, y_test = train_test_split(x,y, test_size=0.2)"
   ]
  },
  {
   "cell_type": "code",
   "execution_count": 86,
   "metadata": {},
   "outputs": [],
   "source": [
    "# from sklearn.tree import DecisionTreeClassifier\n",
    "# from sklearn.svm import SVC\n",
    "# from sklearn.neighbors import KNeighborsClassifier\n",
    "# from sklearn.linear_model import LogisticRegression\n",
    "# from sklearn.ensemble import RandomForestClassifier\n",
    "# from sklearn.naive_bayes import MultinomialNB\n",
    "\n",
    "\n",
    "\n",
    "\n",
    "# from sklearn.metrics import f1_score, confusion_matrix, accuracy_score, precision_score, recall_score, classification_report"
   ]
  },
  {
   "cell_type": "code",
   "execution_count": 87,
   "metadata": {},
   "outputs": [],
   "source": [
    "# storing all algorithm for use in a dictionary for easy integration\n",
    "models={\n",
    "    \"Logisitic Regression\" :LogisticRegression(max_iter=20000),\n",
    "    \"Decision Tree\" :DecisionTreeClassifier(),\n",
    "    \"Random Forest\":RandomForestClassifier(),\n",
    "    \"K-Nearest Neighbors\": KNeighborsClassifier(),\n",
    "    \"Multinomial Naive Bayes\": MultinomialNB(),\n",
    "    \"Support Vector Machine\" : SVC()\n",
    "}"
   ]
  },
  {
   "cell_type": "code",
   "execution_count": 88,
   "metadata": {},
   "outputs": [
    {
     "name": "stdout",
     "output_type": "stream",
     "text": [
      "Logisitic Regression\n",
      "Model performance for Training set \n",
      "- Accuracy: 0.9919\n",
      "- F1 score: 0.9718\n",
      "- Precision: 0.9857\n",
      "- Recall: 0.9582\n",
      "-----------------------------------\n",
      "Model performance for Test set \n",
      "- Accuracy: 0.9870\n",
      "- F1 score: 0.9535\n",
      "- Precision: 0.9880\n",
      "- Recall: 0.9213\n",
      "***********************************\n",
      "\n",
      "\n",
      "Decision Tree\n",
      "Model performance for Training set \n",
      "- Accuracy: 1.0000\n",
      "- F1 score: 1.0000\n",
      "- Precision: 1.0000\n",
      "- Recall: 1.0000\n",
      "-----------------------------------\n",
      "Model performance for Test set \n",
      "- Accuracy: 0.9756\n",
      "- F1 score: 0.9133\n",
      "- Precision: 0.9405\n",
      "- Recall: 0.8876\n",
      "***********************************\n",
      "\n",
      "\n",
      "Random Forest\n",
      "Model performance for Training set \n",
      "- Accuracy: 1.0000\n",
      "- F1 score: 1.0000\n",
      "- Precision: 1.0000\n",
      "- Recall: 1.0000\n",
      "-----------------------------------\n",
      "Model performance for Test set \n",
      "- Accuracy: 0.9756\n",
      "- F1 score: 0.9133\n",
      "- Precision: 0.9405\n",
      "- Recall: 0.8876\n",
      "***********************************\n",
      "\n",
      "\n",
      "K-Nearest Neighbors\n",
      "Model performance for Training set \n",
      "- Accuracy: 0.9435\n",
      "- F1 score: 0.7747\n",
      "- Precision: 0.9264\n",
      "- Recall: 0.6657\n",
      "-----------------------------------\n",
      "Model performance for Test set \n",
      "- Accuracy: 0.9285\n",
      "- F1 score: 0.7105\n",
      "- Precision: 0.8571\n",
      "- Recall: 0.6067\n",
      "***********************************\n",
      "\n",
      "\n",
      "Multinomial Naive Bayes\n",
      "Model performance for Training set \n",
      "- Accuracy: 0.9508\n",
      "- F1 score: 0.8303\n",
      "- Precision: 0.8362\n",
      "- Recall: 0.8245\n",
      "-----------------------------------\n",
      "Model performance for Test set \n",
      "- Accuracy: 0.9480\n",
      "- F1 score: 0.8242\n",
      "- Precision: 0.8065\n",
      "- Recall: 0.8427\n",
      "***********************************\n",
      "\n",
      "\n",
      "Support Vector Machine\n",
      "Model performance for Training set \n",
      "- Accuracy: 0.9008\n",
      "- F1 score: 0.5000\n",
      "- Precision: 0.9457\n",
      "- Recall: 0.3398\n",
      "-----------------------------------\n",
      "Model performance for Test set \n",
      "- Accuracy: 0.9057\n",
      "- F1 score: 0.5323\n",
      "- Precision: 0.9429\n",
      "- Recall: 0.3708\n",
      "***********************************\n",
      "\n",
      "\n"
     ]
    }
   ],
   "source": [
    "for i in range(len(list(models))):\n",
    "    model = list(models.values())[i]\n",
    "    model.fit(x_train,y_train) # Train Model\n",
    "    # Make predictions\n",
    "    y_train_pred = model.predict(x_train)\n",
    "    y_test_pred =  model.predict(x_test)\n",
    "\n",
    "    print(list(models.keys())[i])\n",
    "    \n",
    "    # Training set performance\n",
    "    print('Model performance for Training set ')\n",
    "    print(f'- Accuracy: {accuracy_score(y_train, y_train_pred):.4f}')\n",
    "    print(f'- F1 score: {f1_score(y_train, y_train_pred):.4f}')\n",
    "    print(f'- Precision: {precision_score(y_train, y_train_pred ):.4f}')\n",
    "    print(f'- Recall: {recall_score(y_train, y_train_pred):.4f}')\n",
    "\n",
    "    print('-'*35)\n",
    "    \n",
    "     # Test set performance\n",
    "    print('Model performance for Test set ')\n",
    "    print(f'- Accuracy: {accuracy_score(y_test, y_test_pred):.4f}')\n",
    "    print(f'- F1 score: {f1_score(y_test, y_test_pred):.4f}')\n",
    "    print(f'- Precision: {precision_score(y_test, y_test_pred ):.4f}')\n",
    "    print(f'- Recall: {recall_score(y_test, y_test_pred):.4f}')\n",
    "\n",
    "\n",
    "    print(f'*'*35)\n",
    "    print('\\n')"
   ]
  },
  {
   "cell_type": "markdown",
   "metadata": {},
   "source": [
    "### Balancing the dataset using SMOTE technique"
   ]
  },
  {
   "cell_type": "markdown",
   "metadata": {},
   "source": [
    "The dataset is been balanced so as to:\n",
    "- **Prevent Bias and Skewness:** An imbalanced dataset, where one class greatly outnumbers the others, can introduce bias and skew the model's predictions. The model tends to be more biased towards the majority class and might perform poorly in predicting minority classes. This is particularly important in situations where the minority class is of great interest, such as fraud detection or disease diagnosis.\n",
    "\n",
    "- **Improve Model Performance:** Balanced datasets often result in better model performance. When the dataset is imbalanced, a model may achieve high accuracy by simply predicting the majority class most of the time. Balancing the dataset encourages the model to learn features and patterns from all classes, making it more robust and accurate in generalizing to unseen data.\n",
    "\n",
    "- **Enhance Feature Importance:** In an imbalanced dataset, the features associated with the majority class tend to dominate feature importance. Balancing the dataset helps the model recognize the importance of features for all classes, leading to more meaningful insights."
   ]
  },
  {
   "cell_type": "code",
   "execution_count": 90,
   "metadata": {},
   "outputs": [],
   "source": [
    "# Using SMOTE technique to balance the dataset\n",
    "\n",
    "from imblearn.over_sampling import SMOTE\n",
    "over = SMOTE()\n",
    "x_new, y_new = over.fit_resample(x,y)"
   ]
  },
  {
   "cell_type": "markdown",
   "metadata": {},
   "source": [
    "### Comparing the Balanced and Unbalanced Data set"
   ]
  },
  {
   "cell_type": "code",
   "execution_count": 91,
   "metadata": {},
   "outputs": [
    {
     "data": {
      "image/png": "[encoded data removed]",
      "text/plain": [
       "<Figure size 1080x432 with 2 Axes>"
      ]
     },
     "metadata": {
      "needs_background": "light"
     },
     "output_type": "display_data"
    }
   ],
   "source": [
    "\n",
    "# Assuming you have two pandas Series 'y' and 'y_new'\n",
    "value_counts = y.value_counts()\n",
    "value_counts_new = y_new.value_counts()\n",
    "\n",
    "# Create a figure with two subplots (1 row, 2 columns)\n",
    "plt.figure(figsize=(15, 6))  # You can adjust the figure size as needed\n",
    "\n",
    "# First subplot\n",
    "plt.subplot(1, 2, 1)\n",
    "ax1 = value_counts.plot(kind='bar')\n",
    "for i in ax1.patches:\n",
    "    ax1.annotate(f'{i.get_height()}', (i.get_x() + i.get_width() / 2., i.get_height()), ha='center', va='center', fontsize=12, color='black', xytext=(0, 5), textcoords='offset points')\n",
    "plt.xlabel(\"Categories  [0: NO  |  1: YES]\")\n",
    "plt.ylabel(\"Count\")\n",
    "plt.title(\"Unbalanced Dataset\")\n",
    "plt.xticks(rotation=0)\n",
    "\n",
    "# Second subplot\n",
    "plt.subplot(1, 2, 2)\n",
    "ax2 = value_counts_new.plot(kind='bar')\n",
    "for i in ax2.patches:\n",
    "    ax2.annotate(f'{i.get_height()}', (i.get_x() + i.get_width() / 2., i.get_height()), ha='center', va='center', fontsize=12, color='black', xytext=(0, 5), textcoords='offset points')\n",
    "plt.xlabel(\"Categories  [0: NO  |  1: YES]\")\n",
    "plt.ylabel(\"Count\")\n",
    "plt.title(\"Balanced Dataset\")\n",
    "plt.xticks(rotation=0)\n",
    "\n",
    "plt.tight_layout()  # Adjust subplot parameters for a clean layout\n",
    "\n",
    "plt.show()\n"
   ]
  },
  {
   "cell_type": "markdown",
   "metadata": {},
   "source": [
    "We can observe that the chart on our right side is balanced with both fraudulent and Non-Fraudulent transactions been same. This will help prevent bias and skewness from our model."
   ]
  },
  {
   "cell_type": "markdown",
   "metadata": {},
   "source": [
    "### Let's split the ballanced data into training and testing"
   ]
  },
  {
   "cell_type": "code",
   "execution_count": 92,
   "metadata": {},
   "outputs": [],
   "source": [
    "from sklearn.model_selection import train_test_split\n",
    "x_train, x_test, y_train, y_test = train_test_split(x_new, y_new, test_size=0.2)"
   ]
  },
  {
   "cell_type": "code",
   "execution_count": 93,
   "metadata": {},
   "outputs": [
    {
     "name": "stdout",
     "output_type": "stream",
     "text": [
      "Logisitic Regression\n",
      "Model performance for Training set \n",
      "- Accuracy: 0.9805\n",
      "- F1 score: 0.9805\n",
      "- Precision: 0.9805\n",
      "- Recall: 0.9805\n",
      "-----------------------------------\n",
      "Model performance for Test set \n",
      "- Accuracy: 0.9753\n",
      "- F1 score: 0.9752\n",
      "- Precision: 0.9752\n",
      "- Recall: 0.9752\n",
      "***********************************\n",
      "\n",
      "\n",
      "Decision Tree\n",
      "Model performance for Training set \n",
      "- Accuracy: 1.0000\n",
      "- F1 score: 1.0000\n",
      "- Precision: 1.0000\n",
      "- Recall: 1.0000\n",
      "-----------------------------------\n",
      "Model performance for Test set \n",
      "- Accuracy: 0.9819\n",
      "- F1 score: 0.9819\n",
      "- Precision: 0.9828\n",
      "- Recall: 0.9810\n",
      "***********************************\n",
      "\n",
      "\n",
      "Random Forest\n",
      "Model performance for Training set \n",
      "- Accuracy: 1.0000\n",
      "- F1 score: 1.0000\n",
      "- Precision: 1.0000\n",
      "- Recall: 1.0000\n",
      "-----------------------------------\n",
      "Model performance for Test set \n",
      "- Accuracy: 0.9810\n",
      "- F1 score: 0.9812\n",
      "- Precision: 0.9667\n",
      "- Recall: 0.9962\n",
      "***********************************\n",
      "\n",
      "\n",
      "K-Nearest Neighbors\n",
      "Model performance for Training set \n",
      "- Accuracy: 0.9619\n",
      "- F1 score: 0.9625\n",
      "- Precision: 0.9475\n",
      "- Recall: 0.9781\n",
      "-----------------------------------\n",
      "Model performance for Test set \n",
      "- Accuracy: 0.9210\n",
      "- F1 score: 0.9228\n",
      "- Precision: 0.9018\n",
      "- Recall: 0.9448\n",
      "***********************************\n",
      "\n",
      "\n",
      "Multinomial Naive Bayes\n",
      "Model performance for Training set \n",
      "- Accuracy: 0.9191\n",
      "- F1 score: 0.9147\n",
      "- Precision: 0.9681\n",
      "- Recall: 0.8668\n",
      "-----------------------------------\n",
      "Model performance for Test set \n",
      "- Accuracy: 0.9125\n",
      "- F1 score: 0.9074\n",
      "- Precision: 0.9616\n",
      "- Recall: 0.8590\n",
      "***********************************\n",
      "\n",
      "\n",
      "Support Vector Machine\n",
      "Model performance for Training set \n",
      "- Accuracy: 0.7906\n",
      "- F1 score: 0.7764\n",
      "- Precision: 0.8332\n",
      "- Recall: 0.7269\n",
      "-----------------------------------\n",
      "Model performance for Test set \n",
      "- Accuracy: 0.8145\n",
      "- F1 score: 0.8032\n",
      "- Precision: 0.8541\n",
      "- Recall: 0.7581\n",
      "***********************************\n",
      "\n",
      "\n"
     ]
    }
   ],
   "source": [
    "for i in range(len(list(models))):\n",
    "    model = list(models.values())[i]\n",
    "    model.fit(x_train,y_train) # Train Model\n",
    "    # Make predictions\n",
    "    y_train_pred = model.predict(x_train)\n",
    "    y_test_pred =  model.predict(x_test)\n",
    "\n",
    "    print(list(models.keys())[i])\n",
    "    \n",
    "    # Training set performance\n",
    "    print('Model performance for Training set ')\n",
    "    print(f'- Accuracy: {accuracy_score(y_train, y_train_pred):.4f}')\n",
    "    print(f'- F1 score: {f1_score(y_train, y_train_pred):.4f}')\n",
    "    print(f'- Precision: {precision_score(y_train, y_train_pred ):.4f}')\n",
    "    print(f'- Recall: {recall_score(y_train, y_train_pred):.4f}')\n",
    "\n",
    "    print('-'*35)\n",
    "    \n",
    "     # Test set performance\n",
    "    print('Model performance for Test set ')\n",
    "    print(f'- Accuracy: {accuracy_score(y_test, y_test_pred):.4f}')\n",
    "    print(f'- F1 score: {f1_score(y_test, y_test_pred):.4f}')\n",
    "    print(f'- Precision: {precision_score(y_test, y_test_pred ):.4f}')\n",
    "    print(f'- Recall: {recall_score(y_test, y_test_pred):.4f}')\n",
    "\n",
    "\n",
    "    print(f'*'*35)\n",
    "    print('\\n')"
   ]
  },
  {
   "cell_type": "markdown",
   "metadata": {},
   "source": [
    "- Looking at all models used for the training, Random Forest Classifier performed more better across all metrics used. So we will be using it to complete the project. "
   ]
  },
  {
   "cell_type": "code",
   "execution_count": 94,
   "metadata": {},
   "outputs": [],
   "source": [
    "# using RANDOM FOREST CLASSIFIER\n",
    "rand = RandomForestClassifier()\n",
    "rand.fit(x_train, y_train)\n",
    "rand_pred = rand.predict(x_test)"
   ]
  },
  {
   "cell_type": "code",
   "execution_count": 95,
   "metadata": {},
   "outputs": [
    {
     "name": "stdout",
     "output_type": "stream",
     "text": [
      "-------------RANDOM FOREST------------------\n",
      "Accuracy = 98.00190294957184%\n",
      "f1 score = 98.03186504217433%\n",
      "report :\n",
      "               precision    recall  f1-score   support\n",
      "\n",
      "           0       1.00      0.96      0.98       526\n",
      "           1       0.96      1.00      0.98       525\n",
      "\n",
      "    accuracy                           0.98      1051\n",
      "   macro avg       0.98      0.98      0.98      1051\n",
      "weighted avg       0.98      0.98      0.98      1051\n",
      "\n"
     ]
    }
   ],
   "source": [
    "print('-------------RANDOM FOREST------------------')\n",
    "\n",
    "print(f'Accuracy = {accuracy_score(y_test, rand_pred)*100}%')\n",
    "print(f'f1 score = {f1_score(y_test, rand_pred)*100}%')\n",
    "print(f'report :\\n {classification_report(y_test,rand_pred)}')"
   ]
  },
  {
   "cell_type": "code",
   "execution_count": 96,
   "metadata": {},
   "outputs": [
    {
     "data": {
      "image/png": "[encoded data removed]",
      "text/plain": [
       "<Figure size 720x576 with 2 Axes>"
      ]
     },
     "metadata": {
      "needs_background": "light"
     },
     "output_type": "display_data"
    }
   ],
   "source": [
    "from sklearn.metrics import confusion_matrix\n",
    "\n",
    "cm = confusion_matrix(y_test, rand_pred)\n",
    "\n",
    "plt.figure(figsize=(10,8))\n",
    "sns.heatmap(cm, \n",
    "            annot=True,\n",
    "            fmt='g', \n",
    "            xticklabels=['YES', 'NO'],\n",
    "            yticklabels=['YES', 'NO'])\n",
    "plt.ylabel('Prediction',fontsize=13)\n",
    "plt.xlabel('Actual',fontsize=13)\n",
    "plt.title('Confusion Matrix',fontsize=17)\n",
    "plt.show()"
   ]
  },
  {
   "cell_type": "markdown",
   "metadata": {},
   "source": [
    "### Feature Importance"
   ]
  },
  {
   "cell_type": "markdown",
   "metadata": {},
   "source": [
    "- We are going to look at the most important features that was used for detecting fraud in our dataset"
   ]
  },
  {
   "cell_type": "code",
   "execution_count": 97,
   "metadata": {},
   "outputs": [
    {
     "data": {
      "text/plain": [
       "<BarContainer object of 9 artists>"
      ]
     },
     "execution_count": 97,
     "metadata": {},
     "output_type": "execute_result"
    },
    {
     "data": {
      "image/png": "[encoded data removed]",
      "text/plain": [
       "<Figure size 576x576 with 1 Axes>"
      ]
     },
     "metadata": {
      "needs_background": "light"
     },
     "output_type": "display_data"
    }
   ],
   "source": [
    "plt.figure(figsize=(8,8))\n",
    "sorted_idx = rand.feature_importances_.argsort()\n",
    "plt.barh(x.columns[sorted_idx], rand.feature_importances_[sorted_idx])"
   ]
  },
  {
   "cell_type": "markdown",
   "metadata": {},
   "source": [
    "## Save Model"
   ]
  },
  {
   "cell_type": "code",
   "execution_count": 99,
   "metadata": {},
   "outputs": [],
   "source": [
    "import pickle"
   ]
  },
  {
   "cell_type": "code",
   "execution_count": 101,
   "metadata": {},
   "outputs": [],
   "source": [
    "pickle.dump(rand, open(\"Credit_Card_Fraud.pkl\", \"wb\"))"
   ]
  },
  {
   "cell_type": "code",
   "execution_count": null,
   "metadata": {},
   "outputs": [],
   "source": []
  }
 ],
 "metadata": {
  "kernelspec": {
   "display_name": "Python 3",
   "language": "python",
   "name": "python3"
  },
  "language_info": {
   "codemirror_mode": {
    "name": "ipython",
    "version": 3
   },
   "file_extension": ".py",
   "mimetype": "text/x-python",
   "name": "python",
   "nbconvert_exporter": "python",
   "pygments_lexer": "ipython3",
   "version": "3.7.6"
  }
 },
 "nbformat": 4,
 "nbformat_minor": 4
}
